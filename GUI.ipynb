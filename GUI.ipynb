{
 "cells": [
  {
   "cell_type": "code",
   "execution_count": null,
   "metadata": {},
   "outputs": [],
   "source": [
    "from tkinter import *\n",
    "from tkinter import ttk\n",
    "from tkinter import messagebox\n",
    "\n",
    "#Logical Part\n",
    "def generate():\n",
    "    print(crypto_currency_choice.get())\n",
    "    print(indicator_choice.get())\n",
    "\n",
    "#GUI Part\n",
    "root = Tk()\n",
    "root.title('Your Crypto Trader')\n",
    "root.resizable(width=FALSE, height=FALSE)\n",
    "root.geometry('800x350')\n",
    "\n",
    "top_frame = Frame(root, bg='#126e82', pady=20)\n",
    "top_frame.pack(side=TOP, fill=X)\n",
    "\n",
    "heading_label = Label(top_frame, text='Your Crypto Trader', font=('Lato', 24), bg='#126e82', fg='#ffffff')\n",
    "heading_label.pack()\n",
    "\n",
    "bottom_frame = Frame(root, bg='#fff', pady=20)\n",
    "bottom_frame.pack(side=TOP, fill=X)\n",
    "\n",
    "choose_crypto_label = Label(bottom_frame, text='1. Select a cryptocurrency', font=('Lato', 14), bg='#fff')\n",
    "choose_crypto_label.pack(side=TOP, padx=20)\n",
    "\n",
    "crypto_currency_choice = StringVar()\n",
    "crypto_currency_choosen = ttk.Combobox(bottom_frame, width=50, textvariable=crypto_currency_choice, state='readonly')\n",
    "crypto_currency_choosen.pack(side=TOP, ipady=5)\n",
    "\n",
    "crypto_currency_choosen['values'] = [\n",
    "    'Bitcoin - BTC', \n",
    "    'Ethereum - ETH', \n",
    "    'Binance Coin - BNB',\n",
    "    'XRP - XRP',\n",
    "    'Cardano - ADA'\n",
    "]\n",
    "crypto_currency_choosen.current(0)\n",
    "\n",
    "choose_indicator_label = Label(bottom_frame, text='2. Select an indicator', font=('Lato', 14), bg='#fff')\n",
    "choose_indicator_label.pack(side=TOP, padx=20, pady=(20,0))\n",
    "\n",
    "indicator_choice = StringVar()\n",
    "indicator_choosen = ttk.Combobox(bottom_frame, width=50, textvariable=indicator_choice, state='readonly')\n",
    "indicator_choosen.pack(side=TOP, ipady=5)\n",
    "\n",
    "indicator_choosen['values'] = ['RSI', 'MACD', '4EMA']\n",
    "indicator_choosen.current(0)\n",
    "\n",
    "submit_btn = Button(bottom_frame, text='SUBMIT', font=('Lato', 18), bg='#126e82', fg='#fff', command=generate)\n",
    "submit_btn.pack(side=TOP, ipady=5, pady=20)\n",
    "\n",
    "root.mainloop()"
   ]
  },
  {
   "cell_type": "code",
   "execution_count": null,
   "metadata": {},
   "outputs": [],
   "source": []
  }
 ],
 "metadata": {
  "kernelspec": {
   "display_name": "Python 3",
   "language": "python",
   "name": "python3"
  },
  "language_info": {
   "codemirror_mode": {
    "name": "ipython",
    "version": 3
   },
   "file_extension": ".py",
   "mimetype": "text/x-python",
   "name": "python",
   "nbconvert_exporter": "python",
   "pygments_lexer": "ipython3",
   "version": "3.7.6"
  }
 },
 "nbformat": 4,
 "nbformat_minor": 4
}
